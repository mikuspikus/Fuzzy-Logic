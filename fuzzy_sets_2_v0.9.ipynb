{
 "cells": [
  {
   "cell_type": "code",
   "execution_count": 1,
   "metadata": {
    "collapsed": true
   },
   "outputs": [],
   "source": [
    "%matplotlib inline\n",
    "import matplotlib\n",
    "import matplotlib.pyplot as plt\n",
    "import numpy as np\n",
    "import pandas as pnd\n",
    "import math as mth"
   ]
  },
  {
   "cell_type": "code",
   "execution_count": 2,
   "metadata": {
    "collapsed": false
   },
   "outputs": [],
   "source": [
    "class FuzzySet:\n",
    "    def __init__(self):\n",
    "        self.fuzzy_set = set()\n",
    "        \n",
    "    def __init__(self, *args):\n",
    "        self.fuzzy_set = set()\n",
    "        for item, grade in args:\n",
    "            self.fuzzy_set.add((item, grade))\n",
    "    \n",
    "    def __repr__(self):\n",
    "        return str(self.fuzzy_set)\n",
    "    \n",
    "    def add(self, item, grade):\n",
    "        self.fuzzy_set.add((item, grade))\n",
    "    \n",
    "    def get_height(self):\n",
    "        '''\n",
    "        Returns the max grade in the f-set.\n",
    "        '''\n",
    "        max_grade = 0\n",
    "        for i in self.fuzzy_set:\n",
    "            if i[1] > max_grade:\n",
    "                max_grade = i[1]\n",
    "        return max_grade\n",
    "    \n",
    "    def get_universum(self):\n",
    "        '''\n",
    "        Returns set which contains every item from f-set.\n",
    "        '''\n",
    "        universum = set()\n",
    "        for i in self.fuzzy_set:\n",
    "            universum.add(i[0])\n",
    "        if universum:\n",
    "            return universum\n",
    "        return None\n",
    "\n",
    "    def get_support(self):\n",
    "        '''\n",
    "        Returns set which contains items with grade > 0.\n",
    "        '''\n",
    "        support = set()\n",
    "        for i in self.fuzzy_set:\n",
    "            if i[1] > 0:\n",
    "                support.add(i[0])\n",
    "        if support:\n",
    "            return support\n",
    "        return None\n",
    "    \n",
    "    def get_points(self):\n",
    "        '''\n",
    "        Returns list if items which have grade == 0.5.\n",
    "        '''\n",
    "        points = list()\n",
    "        for i in self.fuzzy_set:\n",
    "            if i[1] == 0.5:\n",
    "                points.append(i[0])\n",
    "        if points:\n",
    "            return points\n",
    "        return None\n",
    "    \n",
    "    def get_modal(self):\n",
    "        '''\n",
    "        Returns True if there is only 1 item has grade == 1. \n",
    "        Else returns False.\n",
    "        '''\n",
    "        max_gr = self.get_height()\n",
    "        if not max_gr < 1:\n",
    "            count = 0\n",
    "            for i in self.fuzzy_set:\n",
    "                if i[1] == max_gr:\n",
    "                    count = count + 1\n",
    "            if count == 1:\n",
    "                return True\n",
    "        return False\n",
    "    \n",
    "    def get_normal_subnormal(self):\n",
    "        '''\n",
    "        Returns True if there are some elements which have grade == 1.\n",
    "        Else returns False\n",
    "        '''\n",
    "        max_gr = self.get_height()\n",
    "        if max_gr == 1:\n",
    "            return True #is normal\n",
    "        else:\n",
    "            return False #is subnormal    \n",
    "    \n",
    "    def get_core(self):\n",
    "        '''\n",
    "        Returns set of item with grade == 1.\n",
    "        '''\n",
    "        max_gr = self.get_height()\n",
    "        if not max_gr != 1:\n",
    "            result = set()\n",
    "            for i in self.fuzzy_set:\n",
    "                if i[1] == max_gr:\n",
    "                    result.add(i[0])\n",
    "            return result\n",
    "        return None\n",
    "            \n",
    "    def get_borders(self):\n",
    "        '''\n",
    "        Returns set of items with 0 < grade < 1.\n",
    "        '''\n",
    "        result = set()\n",
    "        for i in self.fuzzy_set:\n",
    "            if i[1] > 0 and i[1] < 1:\n",
    "                result.add(i[0])\n",
    "        if result:\n",
    "            return result\n",
    "        return None\n",
    "    \n",
    "    def get_normal_set(self):\n",
    "        '''\n",
    "        Returns normolized set.\n",
    "        '''\n",
    "        if not self.get_normal_subnormal():\n",
    "            result = set()\n",
    "            max_gr = self.get_height()\n",
    "            for i in self.fuzzy_set:\n",
    "                result.add((i[0], round(i[1]/max_gr, 2)))       \n",
    "            return result\n",
    "        return None\n",
    "    \n",
    "    def get_level_set(self, level):\n",
    "        '''\n",
    "        Returns set which is slice of items with grade == level.\n",
    "        '''\n",
    "        result = set()\n",
    "        for i in self.fuzzy_set:\n",
    "            if i[1] == level:\n",
    "                result.add(i[0])\n",
    "        if result:\n",
    "            return result\n",
    "        return None\n",
    "    \n",
    "    def get_dict(self):\n",
    "        '''\n",
    "        Returns dict like {item_1 : grade_1, item_2 : grade_2, ...}\n",
    "        '''\n",
    "        result = {}\n",
    "        for i in self.fuzzy_set:\n",
    "            result[i[0]] = i[1]\n",
    "        if result:\n",
    "            return result\n",
    "        return None\n",
    "    \n",
    "    def get_nearest_set(self):\n",
    "        result = FuzzySet()\n",
    "        items = self.get_universum()\n",
    "        x_grades = self.get_dict()\n",
    "        for i in items:\n",
    "            result.add(i, x_grades[i] >= 0.5 and 1 or 0)\n",
    "        return result"
   ]
  },
  {
   "cell_type": "code",
   "execution_count": 3,
   "metadata": {
    "collapsed": true
   },
   "outputs": [],
   "source": [
    "#new stuff below\n",
    "def fuzzy_conjuction(x,y):\n",
    "    result = FuzzySet()\n",
    "    items = x.get_universum()\n",
    "    items = items.intersection(y.get_universum())\n",
    "    x_grades = x.get_dict()\n",
    "    y_grades = y.get_dict()\n",
    "    for i in items:\n",
    "        result.add(i, min(x_grades[i],y_grades[i])) \n",
    "    return result\n",
    "\n",
    "def fuzzy_disjunction(x,y):\n",
    "    result = FuzzySet()\n",
    "    items = x.get_universum()\n",
    "    items = items.union(y.get_universum())\n",
    "    x_grades = x.get_dict()\n",
    "    y_grades = y.get_dict()\n",
    "    for i in items:\n",
    "            result.add(i, max(x_grades.get(i,0),y_grades.get(i,0))) \n",
    "    return result\n",
    "\n",
    "def fuzzy_not(f_set):\n",
    "    result = FuzzySet()\n",
    "    items = f_set.get_universum()\n",
    "    grades = f_set.get_dict()\n",
    "    for i in items:\n",
    "        result.add(i,round(1 - grades.get(i,0),1))\n",
    "    return result\n",
    "\n",
    "def drastic_product(x,y):\n",
    "    result = FuzzySet()\n",
    "    items = x.get_universum()\n",
    "    items = items.union(y.get_universum())\n",
    "    x_grades = x.get_dict()\n",
    "    y_grades = y.get_dict()\n",
    "    for i in items:\n",
    "        if x_grades.get(i,0) == 0:\n",
    "            result.add(i, y_grades[i])\n",
    "        elif y_grades.get(i,0) == 0:\n",
    "            result.add(i, x_grades[i])\n",
    "        else:\n",
    "            result.add(i, 1)\n",
    "    return result\n",
    "\n",
    "def border_disjunction(x,y):\n",
    "    result = FuzzySet()\n",
    "    items = x.get_universum()\n",
    "    items = items.symmetric_difference(y.get_universum())\n",
    "    x_grades = x.get_dict()\n",
    "    y_grades = y.get_dict()\n",
    "    for i in items:\n",
    "        result.add(i, min(x_grades.get(i,0) + y_grades.get(i,0), 1)) \n",
    "    return result\n",
    "\n",
    "def algebraic_product(x,y):\n",
    "    result = FuzzySet()\n",
    "    items = x.get_universum()\n",
    "    items = items.intersection(y.get_universum())\n",
    "    x_grades = x.get_dict()\n",
    "    y_grades = y.get_dict()\n",
    "    for i in items:\n",
    "        result.add(i, round(x_grades[i] * y_grades[i], 3)) \n",
    "    return result\n",
    "\n",
    "def algebraic_sum(x,y):\n",
    "    result = FuzzySet()\n",
    "    items = x.get_universum()\n",
    "    items = items.union(y.get_universum())\n",
    "    x_grades = x.get_dict()\n",
    "    y_grades = y.get_dict()\n",
    "    for i in items:\n",
    "        result.add(i, round(x_grades.get(i,0) + y_grades.get(i,0) \n",
    "                            - x_grades.get(i,0)*y_grades.get(i,0), 2)) \n",
    "    return result\n",
    "\n",
    "def disjunction_sum(x,y):\n",
    "    result = FuzzySet()\n",
    "    items = x.get_universum()\n",
    "    items = items.symmetric_difference(y.get_universum())\n",
    "    x_grades = x.get_dict()\n",
    "    y_grades = y.get_dict()\n",
    "    for i in items:\n",
    "        result.add(i, round(max(min(x_grades.get(i,0), 1 - y_grades.get(i,0)),\n",
    "                                min(y_grades.get(i,0), 1 - x_grades.get(i,0))), 2)) \n",
    "    return result\n",
    "\n",
    "def complementation(x):\n",
    "    result = FuzzySet()\n",
    "    items = x.get_universum()\n",
    "    x_grades = x.get_dict()\n",
    "    for i in items:\n",
    "        result.add(i, round(1 - x_grades[i], 2))\n",
    "    return result\n",
    "\n",
    "def CON(x):\n",
    "    result = FuzzySet()\n",
    "    items = x.get_universum()\n",
    "    x_grades = x.get_dict()\n",
    "    for i in items:\n",
    "        result.add(i, round(x_grades[i] ** 2, 2))\n",
    "    return result\n",
    "\n",
    "def DIL(x):\n",
    "    result = FuzzySet()\n",
    "    items = x.get_universum()\n",
    "    x_grades = x.get_dict()\n",
    "    for i in items:\n",
    "        result.add(i, round(mth.sqrt(x_grades[i]), 2))\n",
    "    return result"
   ]
  },
  {
   "cell_type": "code",
   "execution_count": 4,
   "metadata": {
    "collapsed": true
   },
   "outputs": [],
   "source": [
    "#indeces below\n",
    "def linear_hamming_distance(x,y):\n",
    "    result = 0.0\n",
    "    items = x.get_universum()\n",
    "    x_grades = x.get_dict()\n",
    "    y_grades = y.get_dict()\n",
    "    for i in items:\n",
    "        result += abs(x_grades[i] - y_grades[i])\n",
    "    return result\n",
    "\n",
    "def relative_hamming_distance(x,y):\n",
    "    return round(linear_hamming_distance(x,y)/len(x.get_universum()), 3)\n",
    "\n",
    "def fuzzy_hamming_index(x):\n",
    "    return 2*relative_hamming_distance(x, x.get_nearest_set())\n",
    "\n",
    "def linear_euclidean_distance(x,y):\n",
    "    result = 0.0\n",
    "    items = x.get_universum()\n",
    "    x_grades = x.get_dict()\n",
    "    y_grades = y.get_dict()\n",
    "    for i in items:\n",
    "        result += abs(x_grades[i] - y_grades[i]) ** 2\n",
    "    result = mth.sqrt(result)\n",
    "    return round(result,3)\n",
    "\n",
    "def relative_euclidean_distance(x,y):\n",
    "    return round(linear_euclidean_distance(x,y)/mth.sqrt(len(x.get_universum())),3)\n",
    "\n",
    "def fuzzy_euclidean_index(x):\n",
    "    return 2*relative_euclidean_distance(x, x.get_nearest_set())"
   ]
  },
  {
   "cell_type": "markdown",
   "metadata": {},
   "source": [
    "## Даны два множества\n",
    "$$ X = \\{\\frac{0.9}{1} + \\frac{0.6}{2} + \\frac{0.4}{6} + \\frac{0.3}{7} + \\frac{0.4}{8}\\} $$\n",
    "$$ Y = \\{\\frac{0.5}{1} + \\frac{0.4}{2} + \\frac{0.2}{3} + \\frac{1}{4} + \\frac{0.8}{5} + \\frac{0.6}{6} + \\frac{0.3}{7} + \\frac{0.1}{8}\\} $$\n",
    "# Задание 1.\n",
    "### Представить нечеткие множества графически."
   ]
  },
  {
   "cell_type": "code",
   "execution_count": 5,
   "metadata": {
    "collapsed": false,
    "scrolled": false
   },
   "outputs": [
    {
     "data": {
      "image/png": "[encoded data removed]",
      "text/plain": [
       "<matplotlib.figure.Figure at 0x9e2377ef98>"
      ]
     },
     "metadata": {},
     "output_type": "display_data"
    }
   ],
   "source": [
    "X = FuzzySet((1, 0.9),(2, 0.6),(6, 0.4),(7, 0.3),(8, 0.4))\n",
    "Y = FuzzySet((1, 0.5),(2, 0.4),(3, 0.2),(4, 1),(5, 0.8),(6, 0.6),(7, 0.3),(8, 0.1))\n",
    "\n",
    "fig, ax = plt.subplots(figsize=(20,10))\n",
    "\n",
    "xs = [1,2,6,7,8]\n",
    "ys = [0.9,0.6,0.4,0.3,0.4]\n",
    "ax.plot(xs, ys, '-mo',label = 'Set X')\n",
    "\n",
    "xs = [1,2,3,4,5,6,7,8]\n",
    "ys = [0.5,0.4,0.2,1,0.8,0.6,0.3,0.1]\n",
    "ax.plot(xs, ys, '-go',label = 'Set Y')\n",
    "\n",
    "plt.xlabel('x', fontsize = 14)\n",
    "plt.ylabel('mu', fontsize = 14)\n",
    "ax.xaxis.set_minor_locator(plt.MultipleLocator(50))\n",
    "ax.yaxis.set_minor_locator(plt.MultipleLocator(50))\n",
    "ax.axhline(0, color='black')\n",
    "ax.axvline(0, color='black')\n",
    "ax.grid(which='major', axis='x', linewidth=0.75, linestyle='-', color='0.75')\n",
    "ax.grid(which='major', axis='y', linewidth=0.75, linestyle='-', color='0.75')\n",
    "legend = ax.legend(loc = 'upper right', shadow = True)\n",
    "\n",
    "frame = legend.get_frame()\n",
    "frame.set_facecolor('0.90')\n",
    "\n",
    "plt.show()"
   ]
  },
  {
   "cell_type": "markdown",
   "metadata": {},
   "source": [
    "# Задание 2.\n",
    "### Определить свойства этих множеств и дать характеристику (универсум, носитель, точки перехода, является ли функция пренадлежности унимодальной, явояеися ои нечеткое множество нормальным или субнормальным, высота, ядро, границы). Записать разложение нечеткого множества по множествам уровня."
   ]
  },
  {
   "cell_type": "code",
   "execution_count": 6,
   "metadata": {
    "collapsed": false
   },
   "outputs": [
    {
     "name": "stdout",
     "output_type": "stream",
     "text": [
      "Универсум множества Х: {8, 1, 2, 6, 7}\n",
      "Носитель множества X: {8, 1, 2, 6, 7}\n",
      "Точки перехода множества X:  None\n",
      "Функция множества X не унимодальна.\n",
      "Множество Х субнормально.\n",
      "Высота множества X:  0.9\n",
      "Ядро множества X: отсутствует.\n",
      "Границы множества X:  {8, 1, 2, 6, 7} \n",
      "\n",
      "Универсум множества Y: {1, 2, 3, 4, 5, 6, 7, 8}\n",
      "Носитель множества Y: {1, 2, 3, 4, 5, 6, 7, 8}\n",
      "Точки перехода множества Y:  [1]\n",
      "Функция множества Y унимодальна.\n",
      "Множество Y нормально.\n",
      "Высота множества Y:  1\n",
      "Ядро множества Y: {4}\n",
      "Границы множества Y:  {1, 2, 3, 5, 6, 7, 8} \n",
      "\n",
      "\n",
      "Множества уровня 0.0:\n",
      "X: None\n",
      "Y: None\n",
      "Множества уровня 0.1:\n",
      "X: None\n",
      "Y: {8}\n",
      "Множества уровня 0.2:\n",
      "X: None\n",
      "Y: {3}\n",
      "Множества уровня 0.3:\n",
      "X: {7}\n",
      "Y: {7}\n",
      "Множества уровня 0.4:\n",
      "X: {8, 6}\n",
      "Y: {2}\n",
      "Множества уровня 0.5:\n",
      "X: None\n",
      "Y: {1}\n",
      "Множества уровня 0.6:\n",
      "X: {2}\n",
      "Y: {6}\n",
      "Множества уровня 0.7:\n",
      "X: None\n",
      "Y: None\n",
      "Множества уровня 0.8:\n",
      "X: None\n",
      "Y: {5}\n",
      "Множества уровня 0.9:\n",
      "X: {1}\n",
      "Y: None\n",
      "Множества уровня 1.0:\n",
      "X: None\n",
      "Y: {4}\n"
     ]
    }
   ],
   "source": [
    "print('Универсум множества Х:', X.get_universum())\n",
    "print('Носитель множества X:', X.get_support())\n",
    "\n",
    "result_string = 'Точки перехода множества X: '\n",
    "result_list = X.get_points()\n",
    "print(result_string, result_list)\n",
    "\n",
    "if X.get_modal():\n",
    "    print('Функция множества X унимодальна.')\n",
    "else:\n",
    "    print('Функция множества X не унимодальна.')\n",
    "    \n",
    "if X.get_normal_subnormal():\n",
    "    print('Множество X нормально.')\n",
    "else:\n",
    "    print('Множество Х субнормально.')\n",
    "    \n",
    "result_string = 'Высота множества X: '\n",
    "result = X.get_height()\n",
    "print(result_string, result)\n",
    "\n",
    "result_string = 'Ядро множества X:'\n",
    "result_set = X.get_core()\n",
    "if result_set is not None:\n",
    "    print(result_string, result_set)\n",
    "else:\n",
    "    print(result_string, 'отсутствует.')\n",
    "    \n",
    "result_string = 'Границы множества X: '\n",
    "result_set = X.get_borders()\n",
    "print(result_string, result_set, '\\n')\n",
    "\n",
    "\n",
    "print('Универсум множества Y:', Y.get_universum())\n",
    "print('Носитель множества Y:', Y.get_support())\n",
    "\n",
    "result_string = 'Точки перехода множества Y: '\n",
    "result_list = Y.get_points()\n",
    "print(result_string, result_list)\n",
    "\n",
    "if Y.get_modal():\n",
    "    print('Функция множества Y унимодальна.')\n",
    "else:\n",
    "    print('Функция множества Y не унимодальна.')\n",
    "    \n",
    "if Y.get_normal_subnormal():\n",
    "    print('Множество Y нормально.')\n",
    "else:\n",
    "    print('Множество Y субнормально.')\n",
    "    \n",
    "result_string = 'Высота множества Y: '\n",
    "result = Y.get_height()\n",
    "print(result_string, result)\n",
    "\n",
    "result_string = 'Ядро множества Y:'\n",
    "result_set = Y.get_core()\n",
    "if result_set is not None:\n",
    "    print(result_string, result_set)\n",
    "else:\n",
    "    print(result_string, 'отсутствует.')\n",
    "    \n",
    "result_string = 'Границы множества Y: '\n",
    "result_set = Y.get_borders()\n",
    "print(result_string, result_set, '\\n\\n')\n",
    "\n",
    "for i in range(0, 10 + 1):\n",
    "    print('Множества уровня %.1f:' % (i/10.))\n",
    "    print('X:', X.get_level_set(i/10.))\n",
    "    print('Y:', Y.get_level_set(i/10.))"
   ]
  },
  {
   "cell_type": "markdown",
   "metadata": {},
   "source": [
    "# Задание 3.\n",
    "### Субнормальное нечеткое множество привести к нормальному."
   ]
  },
  {
   "cell_type": "code",
   "execution_count": 7,
   "metadata": {
    "collapsed": false,
    "scrolled": true
   },
   "outputs": [
    {
     "name": "stdout",
     "output_type": "stream",
     "text": [
      "Множество Х:\n",
      "{(6, 0.44), (2, 0.67), (8, 0.44), (7, 0.33), (1, 1.0)}\n",
      "\n",
      "Множество Y:\n",
      "Множество уже нормально.\n"
     ]
    }
   ],
   "source": [
    "print('Множество Х:')\n",
    "result_set = X.get_normal_set()\n",
    "if result_set:\n",
    "    print(result_set)\n",
    "else:\n",
    "    print('Множество уже нормально.')\n",
    "    \n",
    "print('\\nМножество Y:')\n",
    "result_set = Y.get_normal_set()\n",
    "if result_set:\n",
    "    print(result_set)\n",
    "else:\n",
    "    print('Множество уже нормально.')"
   ]
  },
  {
   "cell_type": "markdown",
   "metadata": {},
   "source": [
    "# Задание 4.\n",
    "### Найти множества: \n",
    "### $ X\\cup{Y} $"
   ]
  },
  {
   "cell_type": "code",
   "execution_count": 8,
   "metadata": {
    "collapsed": false
   },
   "outputs": [
    {
     "name": "stdout",
     "output_type": "stream",
     "text": [
      "{(7, 0.3), (3, 0.2), (8, 0.4), (6, 0.6), (2, 0.6), (5, 0.8), (1, 0.9), (4, 1)}\n"
     ]
    }
   ],
   "source": [
    "print(fuzzy_disjunction(X,Y))"
   ]
  },
  {
   "cell_type": "markdown",
   "metadata": {},
   "source": [
    "### $X\\cap{Y} $"
   ]
  },
  {
   "cell_type": "code",
   "execution_count": 9,
   "metadata": {
    "collapsed": false
   },
   "outputs": [
    {
     "name": "stdout",
     "output_type": "stream",
     "text": [
      "{(2, 0.4), (1, 0.5), (8, 0.1), (7, 0.3), (6, 0.4)}\n"
     ]
    }
   ],
   "source": [
    "print(fuzzy_conjuction(X,Y))"
   ]
  },
  {
   "cell_type": "markdown",
   "metadata": {},
   "source": [
    "$ \\overline{\\rm X\\cup{Y}} $"
   ]
  },
  {
   "cell_type": "code",
   "execution_count": 10,
   "metadata": {
    "collapsed": false
   },
   "outputs": [
    {
     "name": "stdout",
     "output_type": "stream",
     "text": [
      "{(7, 0.7), (3, 0.8), (8, 0.6), (6, 0.4), (2, 0.4), (5, 0.2), (1, 0.1), (4, 0)}\n"
     ]
    }
   ],
   "source": [
    "print(fuzzy_not(fuzzy_disjunction(X,Y)))"
   ]
  },
  {
   "cell_type": "markdown",
   "metadata": {},
   "source": [
    "$ (X\\cup{\\overline{\\rm Y}})\\cap{(X\\bigtriangledown{Y})} $"
   ]
  },
  {
   "cell_type": "code",
   "execution_count": 11,
   "metadata": {
    "collapsed": false
   },
   "outputs": [
    {
     "name": "stdout",
     "output_type": "stream",
     "text": [
      "{(7, 0.7), (3, 0.2), (8, 0.9), (6, 0.4), (2, 0.6), (5, 0.2), (1, 0.9), (4, 0)}\n"
     ]
    }
   ],
   "source": [
    "print(fuzzy_conjuction(fuzzy_disjunction(X, fuzzy_not(Y)), drastic_product(X,Y)))"
   ]
  },
  {
   "cell_type": "markdown",
   "metadata": {},
   "source": [
    "$ (X\\oplus{Y})\\bullet(X + Y) $"
   ]
  },
  {
   "cell_type": "code",
   "execution_count": 12,
   "metadata": {
    "collapsed": false
   },
   "outputs": [
    {
     "name": "stdout",
     "output_type": "stream",
     "text": [
      "{(3, 0.04), (4, 1), (5, 0.64)}\n"
     ]
    }
   ],
   "source": [
    "print(algebraic_product(disjunction_sum(X,Y), algebraic_sum(X,Y)))"
   ]
  },
  {
   "cell_type": "markdown",
   "metadata": {
    "collapsed": true
   },
   "source": [
    "# Задание 5.\n",
    "### Записать множества $ CON(X), DIL(X), CON(Y), DIL(Y) $, алгебраическое дополнение, дизъюнктивную сумму нечетких множеств $ X,Y $."
   ]
  },
  {
   "cell_type": "code",
   "execution_count": 13,
   "metadata": {
    "collapsed": false
   },
   "outputs": [
    {
     "name": "stdout",
     "output_type": "stream",
     "text": [
      "X: {(2, 0.6), (1, 0.9), (8, 0.4), (7, 0.3), (6, 0.4)}\n",
      "Y: {(7, 0.3), (3, 0.2), (8, 0.1), (6, 0.6), (2, 0.4), (5, 0.8), (1, 0.5), (4, 1)}\n",
      "\n",
      "CON(X): {(2, 0.36), (1, 0.81), (8, 0.16), (7, 0.09), (6, 0.16)}\n",
      "DIL(X): {(2, 0.77), (1, 0.95), (8, 0.63), (7, 0.55), (6, 0.63)}\n",
      "\n",
      "CON(Y): {(7, 0.09), (8, 0.01), (6, 0.36), (2, 0.16), (5, 0.64), (3, 0.04), (1, 0.25), (4, 1)}\n",
      "DIL(Y): {(7, 0.55), (3, 0.45), (8, 0.32), (6, 0.77), (2, 0.63), (5, 0.89), (1, 0.71), (4, 1.0)}\n",
      "\n",
      "Алгебраическое дополнение Х: {(2, 0.4), (1, 0.1), (8, 0.6), (7, 0.7), (6, 0.6)}\n",
      "Алгебраическое дополнение Y: {(7, 0.7), (3, 0.8), (8, 0.9), (6, 0.4), (2, 0.6), (5, 0.2), (1, 0.5), (4, 0)}\n",
      "\n",
      "Дизъюнктивная сумма: {(3, 0.2), (4, 1), (5, 0.8)}\n"
     ]
    }
   ],
   "source": [
    "print('X:',X)\n",
    "print('Y:',Y)\n",
    "\n",
    "print('\\nCON(X):',CON(X))\n",
    "print('DIL(X):',DIL(X))\n",
    "\n",
    "print('\\nCON(Y):',CON(Y))\n",
    "print('DIL(Y):',DIL(Y))\n",
    "\n",
    "print('\\nАлгебраическое дополнение Х:', complementation(X))\n",
    "print('Алгебраическое дополнение Y:', complementation(Y))\n",
    "\n",
    "print('\\nДизъюнктивная сумма:',disjunction_sum(X,Y))"
   ]
  },
  {
   "cell_type": "markdown",
   "metadata": {},
   "source": [
    "# Задание 6.\n",
    "### Нечеткие множества представить графически: первый график -- множества $ X, CON(X), DIL(X) $; второй -- $ Y, CON(Y), DIL(Y)$."
   ]
  },
  {
   "cell_type": "code",
   "execution_count": 14,
   "metadata": {
    "collapsed": false
   },
   "outputs": [
    {
     "data": {
      "image/png": "[encoded data removed]",
      "text/plain": [
       "<matplotlib.figure.Figure at 0x9e242a23c8>"
      ]
     },
     "metadata": {},
     "output_type": "display_data"
    },
    {
     "data": {
      "image/png": "[encoded data removed]",
      "text/plain": [
       "<matplotlib.figure.Figure at 0x9e242a2ac8>"
      ]
     },
     "metadata": {},
     "output_type": "display_data"
    }
   ],
   "source": [
    "fig, ax = plt.subplots(figsize=(20,10))\n",
    "\n",
    "xs = [1,2,6,7,8]\n",
    "ys = [0.9,0.6,0.4,0.3,0.4]\n",
    "ax.plot(xs, ys, '-bo',label = 'Set X')\n",
    "\n",
    "xs = [1,2,6,7,8]\n",
    "ys = [0.81,0.36,0.16,0.09,0.16]\n",
    "ax.plot(xs, ys, '-go',label = 'CON(X)')\n",
    "\n",
    "xs = [1,2,6,7,8]\n",
    "ys = [0.95,0.77,0.63,0.55,0.63]\n",
    "ax.plot(xs, ys, '-ro',label = 'DIL(X)')\n",
    "\n",
    "plt.xlabel('x', fontsize = 14)\n",
    "plt.ylabel('mu', fontsize = 14)\n",
    "ax.xaxis.set_minor_locator(plt.MultipleLocator(50))\n",
    "ax.yaxis.set_minor_locator(plt.MultipleLocator(50))\n",
    "ax.axhline(0, color='black')\n",
    "ax.axvline(0, color='black')\n",
    "ax.grid(which='major', axis='x', linewidth=0.75, linestyle='-', color='0.75')\n",
    "ax.grid(which='major', axis='y', linewidth=0.75, linestyle='-', color='0.75')\n",
    "legend = ax.legend(loc = 'upper right', shadow = True)\n",
    "\n",
    "frame = legend.get_frame()\n",
    "frame.set_facecolor('0.90')\n",
    "\n",
    "plt.show()\n",
    "\n",
    "fig, ax = plt.subplots(figsize=(20,10))\n",
    "\n",
    "xs = [1,2,3,4,5,6,7,8]\n",
    "ys = [0.5,0.4,0.2,1,0.8,0.6,0.3,0.1]\n",
    "ax.plot(xs, ys, '-bo',label = 'Set Y')\n",
    "\n",
    "xs = [1,2,3,4,5,6,7,8]\n",
    "ys = [0.25,0.16,0.04,1,0.64,0.36,0.09,0.01]\n",
    "ax.plot(xs, ys, '-go',label = 'CON(Y)')\n",
    "\n",
    "xs = [1,2,3,4,5,6,7,8]\n",
    "ys = [0.71,0.63,0.45,1,0.89,0.77,0.55,0.32]\n",
    "ax.plot(xs, ys, '-ro',label = 'DIL(Y)')\n",
    "\n",
    "plt.xlabel('x', fontsize = 14)\n",
    "plt.ylabel('mu', fontsize = 14)\n",
    "ax.xaxis.set_minor_locator(plt.MultipleLocator(50))\n",
    "ax.yaxis.set_minor_locator(plt.MultipleLocator(50))\n",
    "ax.axhline(0, color='black')\n",
    "ax.axvline(0, color='black')\n",
    "ax.grid(which='major', axis='x', linewidth=0.75, linestyle='-', color='0.75')\n",
    "ax.grid(which='major', axis='y', linewidth=0.75, linestyle='-', color='0.75')\n",
    "legend = ax.legend(loc = 'upper right', shadow = True)\n",
    "\n",
    "frame = legend.get_frame()\n",
    "frame.set_facecolor('0.90')\n",
    "\n",
    "plt.show()"
   ]
  },
  {
   "cell_type": "markdown",
   "metadata": {
    "collapsed": true
   },
   "source": [
    "# Задание 7.\n",
    "### Для каждой из кривой задания 6 найти подходящую функцию принадлежности аналитически."
   ]
  },
  {
   "cell_type": "code",
   "execution_count": null,
   "metadata": {
    "collapsed": true
   },
   "outputs": [],
   "source": []
  },
  {
   "cell_type": "markdown",
   "metadata": {},
   "source": [
    "# Задание 8.\n",
    "### Вычислить индексы нечеткости по метрике Хэмминга для всех 6 множеств."
   ]
  },
  {
   "cell_type": "code",
   "execution_count": 15,
   "metadata": {
    "collapsed": false
   },
   "outputs": [
    {
     "name": "stdout",
     "output_type": "stream",
     "text": [
      "X: {(2, 0.6), (1, 0.9), (8, 0.4), (7, 0.3), (6, 0.4)}\n",
      "Ближайшее множество: {(7, 0), (8, 0), (6, 0), (1, 1), (2, 1)}\n",
      "Линейное расстояние Хэмминга: 1.6\n",
      "Относительное расстояние Хэмминга: 0.32\n",
      "Индекс нечеткости множества: 0.64\n",
      "\n",
      "CON(X): {(2, 0.36), (1, 0.81), (8, 0.16), (7, 0.09), (6, 0.16)}\n",
      "Ближайшее множество: {(7, 0), (2, 0), (8, 0), (6, 0), (1, 1)}\n",
      "Линейное расстояние Хэмминга: 0.96\n",
      "Относительное расстояние Хэмминга: 0.192\n",
      "Индекс нечеткости множества: 0.384\n",
      "\n",
      "DIL(X): {(2, 0.77), (1, 0.95), (8, 0.63), (7, 0.55), (6, 0.63)}\n",
      "Ближайшее множество: {(8, 1), (6, 1), (1, 1), (2, 1), (7, 1)}\n",
      "Линейное расстояние Хэмминга: 1.47\n",
      "Относительное расстояние Хэмминга: 0.294\n",
      "Индекс нечеткости множества: 0.588\n",
      "\n",
      "\n",
      "Y: {(7, 0.3), (3, 0.2), (8, 0.1), (6, 0.6), (2, 0.4), (5, 0.8), (1, 0.5), (4, 1)}\n",
      "Ближайшее множество: {(7, 0), (3, 0), (6, 1), (8, 0), (2, 0), (5, 1), (4, 1), (1, 1)}\n",
      "Линейное расстояние Хэмминга: 2.1\n",
      "Относительное расстояние Хэмминга: 0.263\n",
      "Индекс нечеткости множества: 0.526\n",
      "\n",
      "CON(Y): {(7, 0.09), (8, 0.01), (6, 0.36), (2, 0.16), (5, 0.64), (3, 0.04), (1, 0.25), (4, 1)}\n",
      "Ближайшее множество: {(7, 0), (3, 0), (8, 0), (6, 0), (2, 0), (5, 1), (1, 0), (4, 1)}\n",
      "Линейное расстояние Хэмминга: 1.27\n",
      "Относительное расстояние Хэмминга: 0.159\n",
      "Индекс нечеткости множества: 0.318\n",
      "\n",
      "DIL(Y): {(7, 0.55), (3, 0.45), (8, 0.32), (6, 0.77), (2, 0.63), (5, 0.89), (1, 0.71), (4, 1.0)}\n",
      "Ближайшее множество:\n",
      "Линейное расстояние Хэмминга: 2.22\n",
      "Относительное расстояние Хэмминга: 0.278\n",
      "Индекс нечеткости множества: 0.556\n"
     ]
    }
   ],
   "source": [
    "print('X:',X)\n",
    "n_set = X.get_nearest_set()\n",
    "print('Ближайшее множество:',n_set)\n",
    "print('Линейное расстояние Хэмминга:',linear_hamming_distance(X,n_set))\n",
    "print('Относительное расстояние Хэмминга:',relative_hamming_distance(X,n_set))\n",
    "x_hi = fuzzy_hamming_index(X)\n",
    "print('Индекс нечеткости множества:', x_hi)\n",
    "\n",
    "con_x = CON(X)\n",
    "print('\\nCON(X):',con_x)\n",
    "n_set = con_x.get_nearest_set()\n",
    "print('Ближайшее множество:',n_set)\n",
    "print('Линейное расстояние Хэмминга:',linear_hamming_distance(con_x,n_set))\n",
    "print('Относительное расстояние Хэмминга:',relative_hamming_distance(con_x,n_set))\n",
    "con_x_hi = fuzzy_hamming_index(con_x)\n",
    "print('Индекс нечеткости множества:', con_x_hi)\n",
    "\n",
    "dil_x = DIL(X)\n",
    "print('\\nDIL(X):',dil_x)\n",
    "n_set = dil_x.get_nearest_set()\n",
    "print('Ближайшее множество:',n_set)\n",
    "print('Линейное расстояние Хэмминга:',linear_hamming_distance(dil_x,n_set))\n",
    "print('Относительное расстояние Хэмминга:',relative_hamming_distance(dil_x,n_set))\n",
    "dil_x_hi = fuzzy_hamming_index(dil_x)\n",
    "print('Индекс нечеткости множества:', dil_x_hi)\n",
    "\n",
    "print('\\n\\nY:',Y)\n",
    "n_set = Y.get_nearest_set()\n",
    "print('Ближайшее множество:',n_set)\n",
    "print('Линейное расстояние Хэмминга:',linear_hamming_distance(Y,n_set))\n",
    "print('Относительное расстояние Хэмминга:',relative_hamming_distance(Y,n_set))\n",
    "y_hi = fuzzy_hamming_index(Y)\n",
    "print('Индекс нечеткости множества:', y_hi)\n",
    "\n",
    "con_y = CON(Y)\n",
    "print('\\nCON(Y):',con_y)\n",
    "n_set = con_y.get_nearest_set()\n",
    "print('Ближайшее множество:',n_set)\n",
    "print('Линейное расстояние Хэмминга:',linear_hamming_distance(con_y,n_set))\n",
    "print('Относительное расстояние Хэмминга:',relative_hamming_distance(con_y,n_set))\n",
    "con_y_hi = fuzzy_hamming_index(con_y)\n",
    "print('Индекс нечеткости множества:', con_y_hi)\n",
    "\n",
    "dil_y = DIL(Y)\n",
    "print('\\nDIL(Y):',dil_y)\n",
    "n_set = dil_y.get_nearest_set()\n",
    "print('Ближайшее множество:',)\n",
    "print('Линейное расстояние Хэмминга:',linear_hamming_distance(dil_y,n_set))\n",
    "print('Относительное расстояние Хэмминга:',relative_hamming_distance(dil_y, n_set))\n",
    "dil_y_hi = fuzzy_hamming_index(dil_y)\n",
    "print('Индекс нечеткости множества:', dil_y_hi)"
   ]
  },
  {
   "cell_type": "markdown",
   "metadata": {},
   "source": [
    "# Задание 9.\n",
    "### Вычислить индекс нечеткости по метрики Евклида для всех 6 множеств."
   ]
  },
  {
   "cell_type": "code",
   "execution_count": 16,
   "metadata": {
    "collapsed": false
   },
   "outputs": [
    {
     "name": "stdout",
     "output_type": "stream",
     "text": [
      "X: {(2, 0.6), (1, 0.9), (8, 0.4), (7, 0.3), (6, 0.4)}\n",
      "Ближайшее множество: {(7, 0), (8, 0), (6, 0), (1, 1), (2, 1)}\n",
      "Линейное расстояние Евклида: 0.762\n",
      "Относительное расстояние Евклида: 0.341\n",
      "Индекс нечеткости множества: 0.682\n",
      "\n",
      "CON(X): {(2, 0.36), (1, 0.81), (8, 0.16), (7, 0.09), (6, 0.16)}\n",
      "Ближайшее множество: {(7, 0), (2, 0), (8, 0), (6, 0), (1, 1)}\n",
      "Линейное расстояние Евклида: 0.474\n",
      "Относительное расстояние Евклида: 0.212\n",
      "Индекс нечеткости множества: 0.424\n",
      "\n",
      "DIL(X): {(2, 0.77), (1, 0.95), (8, 0.63), (7, 0.55), (6, 0.63)}\n",
      "Ближайшее множество: {(8, 1), (6, 1), (1, 1), (2, 1), (7, 1)}\n",
      "Линейное расстояние Евклида: 0.729\n",
      "Относительное расстояние Евклида: 0.326\n",
      "Индекс нечеткости множества: 0.63\n",
      "\n",
      "\n",
      "Y: {(7, 0.3), (3, 0.2), (8, 0.1), (6, 0.6), (2, 0.4), (5, 0.8), (1, 0.5), (4, 1)}\n",
      "Ближайшее множество: {(7, 0), (3, 0), (6, 1), (8, 0), (2, 0), (5, 1), (4, 1), (1, 1)}\n",
      "Линейное расстояние Евклида: 0.866\n",
      "Относительное расстояние Евклида: 0.306\n",
      "Индекс нечеткости множества: 0.612\n",
      "\n",
      "CON(Y): {(7, 0.09), (8, 0.01), (6, 0.36), (2, 0.16), (5, 0.64), (3, 0.04), (1, 0.25), (4, 1)}\n",
      "Ближайшее множество: {(7, 0), (3, 0), (8, 0), (6, 0), (2, 0), (5, 1), (1, 0), (4, 1)}\n",
      "Линейное расстояние Евклида: 0.598\n",
      "Относительное расстояние Евклида: 0.211\n",
      "Индекс нечеткости множества: 0.422\n",
      "\n",
      "DIL(Y): {(7, 0.55), (3, 0.45), (8, 0.32), (6, 0.77), (2, 0.63), (5, 0.89), (1, 0.71), (4, 1.0)}\n",
      "Ближайшее множество:\n",
      "Линейное расстояние Евклида: 0.891\n",
      "Относительное расстояние Евклида: 0.315\n",
      "Индекс нечеткости множества: 0.63\n"
     ]
    }
   ],
   "source": [
    "print('X:',X)\n",
    "n_set = X.get_nearest_set()\n",
    "print('Ближайшее множество:',n_set)\n",
    "print('Линейное расстояние Евклида:',linear_euclidean_distance(X,n_set))\n",
    "print('Относительное расстояние Евклида:',relative_euclidean_distance(X,n_set))\n",
    "x_ei = fuzzy_euclidean_index(X)\n",
    "print('Индекс нечеткости множества:', x_ei)\n",
    "\n",
    "con_x = CON(X)\n",
    "print('\\nCON(X):',con_x)\n",
    "n_set = con_x.get_nearest_set()\n",
    "print('Ближайшее множество:',n_set)\n",
    "print('Линейное расстояние Евклида:',linear_euclidean_distance(con_x,n_set))\n",
    "print('Относительное расстояние Евклида:',relative_euclidean_distance(con_x,n_set))\n",
    "con_x_ei = fuzzy_euclidean_index(con_x)\n",
    "print('Индекс нечеткости множества:', con_x_ei)\n",
    "\n",
    "dil_x = DIL(X)\n",
    "print('\\nDIL(X):',dil_x)\n",
    "n_set = dil_x.get_nearest_set()\n",
    "print('Ближайшее множество:',n_set)\n",
    "print('Линейное расстояние Евклида:',linear_euclidean_distance(dil_x,n_set))\n",
    "print('Относительное расстояние Евклида:',relative_euclidean_distance(dil_x,n_set))\n",
    "dil_x_ei = fuzzy_euclidean_index(dil_y)\n",
    "print('Индекс нечеткости множества:', dil_x_ei)\n",
    "\n",
    "print('\\n\\nY:',Y)\n",
    "n_set = Y.get_nearest_set()\n",
    "print('Ближайшее множество:',n_set)\n",
    "print('Линейное расстояние Евклида:',linear_euclidean_distance(Y,n_set))\n",
    "print('Относительное расстояние Евклида:',relative_euclidean_distance(Y,n_set))\n",
    "y_ei = fuzzy_euclidean_index(Y)\n",
    "print('Индекс нечеткости множества:', y_ei)\n",
    "\n",
    "con_y = CON(Y)\n",
    "print('\\nCON(Y):',con_y)\n",
    "n_set = con_y.get_nearest_set()\n",
    "print('Ближайшее множество:',n_set)\n",
    "print('Линейное расстояние Евклида:',linear_euclidean_distance(con_y,n_set))\n",
    "print('Относительное расстояние Евклида:',relative_euclidean_distance(con_y,n_set))\n",
    "con_y_ei = fuzzy_euclidean_index(con_y)\n",
    "print('Индекс нечеткости множества:', con_y_ei)\n",
    "\n",
    "dil_y = DIL(Y)\n",
    "print('\\nDIL(Y):',dil_y)\n",
    "n_set = dil_y.get_nearest_set()\n",
    "print('Ближайшее множество:',)\n",
    "print('Линейное расстояние Евклида:',linear_euclidean_distance(dil_y,n_set))\n",
    "print('Относительное расстояние Евклида:',relative_euclidean_distance(dil_y, n_set))\n",
    "dil_y_ei = fuzzy_euclidean_index(dil_y)\n",
    "print('Индекс нечеткости множества:', dil_y_ei)"
   ]
  },
  {
   "cell_type": "markdown",
   "metadata": {},
   "source": [
    "# Задание 10.\n",
    "### Сравнить степень нечеткости $ X $ с $ CON(X) $ и $ DIL(X) $, а также множества $ Y $ с множествами $ CON(Y) $ и $ DIL(Y) $."
   ]
  },
  {
   "cell_type": "code",
   "execution_count": 17,
   "metadata": {
    "collapsed": false
   },
   "outputs": [
    {
     "name": "stdout",
     "output_type": "stream",
     "text": [
      "По индексам Хэмминга:\n",
      "X : 0.64\n",
      "DIL(X) : 0.588\n",
      "CON(X) : 0.384\n",
      "\n",
      "\n",
      "DIL(Y) : 0.556\n",
      "Y : 0.526\n",
      "CON(Y) : 0.318\n",
      "\n",
      "\n",
      "\n",
      "По индексам Евклида:\n",
      "X : 0.682\n",
      "DIL(X) : 0.63\n",
      "CON(X) : 0.424\n",
      "\n",
      "\n",
      "DIL(Y) : 0.63\n",
      "Y : 0.612\n",
      "CON(Y) : 0.422\n"
     ]
    }
   ],
   "source": [
    "print('По индексам Хэмминга:')\n",
    "buffer_dict = {x_hi : 'X', con_x_hi : 'CON(X)', dil_x_hi : 'DIL(X)'}\n",
    "buffer_list = [x_hi, con_x_hi, dil_x_hi]\n",
    "buffer_list.sort()\n",
    "while buffer_list != list():\n",
    "    i = buffer_list.pop()\n",
    "    print(buffer_dict[i],':',i)\n",
    "    \n",
    "print('\\n')\n",
    "    \n",
    "buffer_dict = {y_hi : 'Y', con_y_hi : 'CON(Y)', dil_y_hi : 'DIL(Y)'}\n",
    "buffer_list = [y_hi, con_y_hi, dil_y_hi]\n",
    "buffer_list.sort()\n",
    "while buffer_list != list():\n",
    "    i = buffer_list.pop()\n",
    "    print(buffer_dict[i],':',i)\n",
    "    \n",
    "print('\\n\\n')\n",
    "\n",
    "print('По индексам Евклида:')\n",
    "buffer_dict = {x_ei : 'X', con_x_ei : 'CON(X)', dil_x_ei : 'DIL(X)'}\n",
    "buffer_list = [x_ei, con_x_ei, dil_x_ei]\n",
    "buffer_list.sort()\n",
    "while buffer_list != list():\n",
    "    i = buffer_list.pop()\n",
    "    print(buffer_dict[i],':',i)\n",
    "    \n",
    "print('\\n')\n",
    "\n",
    "buffer_dict = {y_ei : 'Y', con_y_ei : 'CON(Y)', dil_y_ei : 'DIL(Y)'}\n",
    "buffer_list = [y_ei, con_y_ei, dil_y_ei]\n",
    "buffer_list.sort()\n",
    "while buffer_list != list():\n",
    "    i = buffer_list.pop()\n",
    "    print(buffer_dict[i],':',i)"
   ]
  },
  {
   "cell_type": "code",
   "execution_count": null,
   "metadata": {
    "collapsed": true
   },
   "outputs": [],
   "source": []
  }
 ],
 "metadata": {
  "kernelspec": {
   "display_name": "Python 3",
   "language": "python",
   "name": "python3"
  },
  "language_info": {
   "codemirror_mode": {
    "name": "ipython",
    "version": 3
   },
   "file_extension": ".py",
   "mimetype": "text/x-python",
   "name": "python",
   "nbconvert_exporter": "python",
   "pygments_lexer": "ipython3",
   "version": "3.5.2"
  }
 },
 "nbformat": 4,
 "nbformat_minor": 0
}
